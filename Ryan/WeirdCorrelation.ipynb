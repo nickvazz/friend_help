{
 "cells": [
  {
   "cell_type": "code",
   "execution_count": 1,
   "metadata": {},
   "outputs": [
    {
     "name": "stdout",
     "output_type": "stream",
     "text": [
      "a  a    1.000000\n",
      "   b    0.012031\n",
      "   c   -0.007585\n",
      "   d   -0.064696\n",
      "b  a    0.012031\n",
      "   b    1.000000\n",
      "   c   -0.061976\n",
      "   d   -0.172434\n",
      "c  a   -0.007585\n",
      "   b   -0.061976\n",
      "   c    1.000000\n",
      "   d    0.017738\n",
      "d  a   -0.064696\n",
      "   b   -0.172434\n",
      "   c    0.017738\n",
      "   d    1.000000\n",
      "dtype: float64\n"
     ]
    },
    {
     "data": {
      "text/plain": [
       "<matplotlib.axes._subplots.AxesSubplot at 0x107c129d0>"
      ]
     },
     "execution_count": 1,
     "metadata": {},
     "output_type": "execute_result"
    },
    {
     "data": {
      "image/png": "[encoded data removed]",
      "text/plain": [
       "<matplotlib.figure.Figure at 0x107c12b50>"
      ]
     },
     "metadata": {},
     "output_type": "display_data"
    }
   ],
   "source": [
    "import pandas as pd\n",
    "import numpy as np\n",
    "import matplotlib.pyplot as plt\n",
    "import seaborn as sns\n",
    "%matplotlib inline\n",
    "sns.set()\n",
    "\n",
    "data = np.random.rand(100,4)\n",
    "\n",
    "df = pd.DataFrame(data)\n",
    "df.columns = list('abcd')\n",
    "\n",
    "corrMatrix = df.corr()\n",
    "\n",
    "\n",
    "\n",
    "print corrMatrix.unstack()\n",
    "\n",
    "sns.heatmap(corrMatrix)"
   ]
  },
  {
   "cell_type": "code",
   "execution_count": 2,
   "metadata": {
    "scrolled": false
   },
   "outputs": [
    {
     "data": {
      "image/png": "[encoded data removed]",
      "text/plain": [
       "<matplotlib.figure.Figure at 0x107c2fd10>"
      ]
     },
     "metadata": {},
     "output_type": "display_data"
    }
   ],
   "source": [
    "no_dups = corrMatrix.mask(np.tril(np.ones(corrMatrix.shape)).astype(np.bool)).unstack().sort_values().dropna()\n",
    "\n",
    "# print no_dups\n",
    "\n",
    "xlabels = ['_'.join(x) for x in no_dups.index.values]\n",
    "\n",
    "\n",
    "no_dups.plot(figsize=(6,6))\n",
    "plt.xticks(range(len(xlabels)),xlabels, rotation=90)\n",
    "plt.show()"
   ]
  },
  {
   "cell_type": "code",
   "execution_count": 3,
   "metadata": {},
   "outputs": [
    {
     "name": "stdout",
     "output_type": "stream",
     "text": [
      "1.0\n"
     ]
    }
   ],
   "source": [
    "print corrMatrix.unstack()[0]"
   ]
  },
  {
   "cell_type": "code",
   "execution_count": 4,
   "metadata": {},
   "outputs": [
    {
     "name": "stdout",
     "output_type": "stream",
     "text": [
      "a  a    1.000000\n",
      "   b    0.012031\n",
      "   c   -0.007585\n",
      "   d   -0.064696\n",
      "b  a    0.012031\n",
      "   b    1.000000\n",
      "   c   -0.061976\n",
      "   d   -0.172434\n",
      "dtype: float64\n"
     ]
    }
   ],
   "source": [
    "print corrMatrix.unstack()[['a','b']]"
   ]
  },
  {
   "cell_type": "code",
   "execution_count": 5,
   "metadata": {},
   "outputs": [
    {
     "name": "stdout",
     "output_type": "stream",
     "text": [
      "0.0120314472710383\n"
     ]
    }
   ],
   "source": [
    "print corrMatrix.unstack()['a','b']"
   ]
  },
  {
   "cell_type": "code",
   "execution_count": 6,
   "metadata": {},
   "outputs": [
    {
     "name": "stdout",
     "output_type": "stream",
     "text": [
      "[('a', 'a') ('a', 'b') ('a', 'c') ('a', 'd') ('b', 'a') ('b', 'b')\n",
      " ('b', 'c') ('b', 'd') ('c', 'a') ('c', 'b') ('c', 'c') ('c', 'd')\n",
      " ('d', 'a') ('d', 'b') ('d', 'c') ('d', 'd')]\n"
     ]
    }
   ],
   "source": [
    "print corrMatrix.unstack().index.values"
   ]
  },
  {
   "cell_type": "code",
   "execution_count": 7,
   "metadata": {},
   "outputs": [
    {
     "name": "stdout",
     "output_type": "stream",
     "text": [
      "    a         b         c         d\n",
      "a NaN  0.012031 -0.007585 -0.064696\n",
      "b NaN       NaN -0.061976 -0.172434\n",
      "c NaN       NaN       NaN  0.017738\n",
      "d NaN       NaN       NaN       NaN\n"
     ]
    }
   ],
   "source": [
    "print corrMatrix.mask(np.tril(np.ones(corrMatrix.shape)).astype(np.bool))"
   ]
  },
  {
   "cell_type": "code",
   "execution_count": 8,
   "metadata": {
    "scrolled": false
   },
   "outputs": [
    {
     "data": {
      "text/plain": [
       "b  a    0.012031\n",
       "c  a   -0.007585\n",
       "   b   -0.061976\n",
       "d  a   -0.064696\n",
       "   b   -0.172434\n",
       "   c    0.017738\n",
       "dtype: float64"
      ]
     },
     "execution_count": 8,
     "metadata": {},
     "output_type": "execute_result"
    }
   ],
   "source": [
    "no_dups = corrMatrix.mask(np.tril(np.ones(corrMatrix.shape)).astype(np.bool)).unstack().dropna()\n",
    "\n",
    "no_dups"
   ]
  },
  {
   "cell_type": "code",
   "execution_count": 9,
   "metadata": {},
   "outputs": [
    {
     "name": "stdout",
     "output_type": "stream",
     "text": [
      "b  a    0.012031\n",
      "c  a   -0.007585\n",
      "   b   -0.061976\n",
      "d  a   -0.064696\n",
      "   b   -0.172434\n",
      "   c    0.017738\n",
      "dtype: float64\n"
     ]
    }
   ],
   "source": [
    "print no_dups"
   ]
  },
  {
   "cell_type": "code",
   "execution_count": 10,
   "metadata": {},
   "outputs": [
    {
     "data": {
      "text/plain": [
       "b  a     (-0.00128, 0.0177]\n",
       "c  a    (-0.0203, -0.00128]\n",
       "   b     (-0.0773, -0.0583]\n",
       "d  a     (-0.0773, -0.0583]\n",
       "   b       (-0.173, -0.153]\n",
       "   c     (-0.00128, 0.0177]\n",
       "dtype: category\n",
       "Categories (10, interval[float64]): [(-0.173, -0.153] < (-0.153, -0.134] < (-0.134, -0.115] < (-0.115, -0.0964] ... (-0.0583, -0.0393] < (-0.0393, -0.0203] < (-0.0203, -0.00128] < (-0.00128, 0.0177]]"
      ]
     },
     "execution_count": 10,
     "metadata": {},
     "output_type": "execute_result"
    }
   ],
   "source": [
    "bins = pd.cut(no_dups, bins=10)\n",
    "\n",
    "bins"
   ]
  },
  {
   "cell_type": "code",
   "execution_count": 11,
   "metadata": {},
   "outputs": [
    {
     "data": {
      "text/plain": [
       "b  a    0.012031\n",
       "c  a   -0.007585\n",
       "   b   -0.061976\n",
       "d  a   -0.064696\n",
       "   b   -0.172434\n",
       "   c    0.017738\n",
       "dtype: float64"
      ]
     },
     "execution_count": 11,
     "metadata": {},
     "output_type": "execute_result"
    }
   ],
   "source": [
    "no_dups"
   ]
  },
  {
   "cell_type": "code",
   "execution_count": 12,
   "metadata": {},
   "outputs": [
    {
     "data": {
      "text/html": [
       "<div>\n",
       "<style scoped>\n",
       "    .dataframe tbody tr th:only-of-type {\n",
       "        vertical-align: middle;\n",
       "    }\n",
       "\n",
       "    .dataframe tbody tr th {\n",
       "        vertical-align: top;\n",
       "    }\n",
       "\n",
       "    .dataframe thead th {\n",
       "        text-align: right;\n",
       "    }\n",
       "</style>\n",
       "<table border=\"1\" class=\"dataframe\">\n",
       "  <thead>\n",
       "    <tr style=\"text-align: right;\">\n",
       "      <th></th>\n",
       "      <th></th>\n",
       "      <th>correlation</th>\n",
       "      <th>bin</th>\n",
       "    </tr>\n",
       "  </thead>\n",
       "  <tbody>\n",
       "    <tr>\n",
       "      <th>b</th>\n",
       "      <th>a</th>\n",
       "      <td>0.0120314</td>\n",
       "      <td>(-0.00128, 0.0177]</td>\n",
       "    </tr>\n",
       "    <tr>\n",
       "      <th rowspan=\"2\" valign=\"top\">c</th>\n",
       "      <th>a</th>\n",
       "      <td>-0.00758495</td>\n",
       "      <td>(-0.0203, -0.00128]</td>\n",
       "    </tr>\n",
       "    <tr>\n",
       "      <th>b</th>\n",
       "      <td>-0.0619763</td>\n",
       "      <td>(-0.0773, -0.0583]</td>\n",
       "    </tr>\n",
       "    <tr>\n",
       "      <th rowspan=\"3\" valign=\"top\">d</th>\n",
       "      <th>a</th>\n",
       "      <td>-0.0646957</td>\n",
       "      <td>(-0.0773, -0.0583]</td>\n",
       "    </tr>\n",
       "    <tr>\n",
       "      <th>b</th>\n",
       "      <td>-0.172434</td>\n",
       "      <td>(-0.173, -0.153]</td>\n",
       "    </tr>\n",
       "    <tr>\n",
       "      <th>c</th>\n",
       "      <td>0.0177383</td>\n",
       "      <td>(-0.00128, 0.0177]</td>\n",
       "    </tr>\n",
       "  </tbody>\n",
       "</table>\n",
       "</div>"
      ],
      "text/plain": [
       "    correlation                  bin\n",
       "b a   0.0120314   (-0.00128, 0.0177]\n",
       "c a -0.00758495  (-0.0203, -0.00128]\n",
       "  b  -0.0619763   (-0.0773, -0.0583]\n",
       "d a  -0.0646957   (-0.0773, -0.0583]\n",
       "  b   -0.172434     (-0.173, -0.153]\n",
       "  c   0.0177383   (-0.00128, 0.0177]"
      ]
     },
     "execution_count": 12,
     "metadata": {},
     "output_type": "execute_result"
    }
   ],
   "source": [
    "df = pd.DataFrame([no_dups,bins]).T\n",
    "df.columns = ['correlation','bin']\n",
    "\n",
    "df"
   ]
  },
  {
   "cell_type": "code",
   "execution_count": 13,
   "metadata": {},
   "outputs": [
    {
     "data": {
      "text/html": [
       "<div>\n",
       "<style scoped>\n",
       "    .dataframe tbody tr th:only-of-type {\n",
       "        vertical-align: middle;\n",
       "    }\n",
       "\n",
       "    .dataframe tbody tr th {\n",
       "        vertical-align: top;\n",
       "    }\n",
       "\n",
       "    .dataframe thead th {\n",
       "        text-align: right;\n",
       "    }\n",
       "</style>\n",
       "<table border=\"1\" class=\"dataframe\">\n",
       "  <thead>\n",
       "    <tr style=\"text-align: right;\">\n",
       "      <th></th>\n",
       "      <th></th>\n",
       "      <th>correlation</th>\n",
       "      <th>bin</th>\n",
       "    </tr>\n",
       "  </thead>\n",
       "  <tbody>\n",
       "    <tr>\n",
       "      <th rowspan=\"2\" valign=\"top\">d</th>\n",
       "      <th>b</th>\n",
       "      <td>-0.172434</td>\n",
       "      <td>(-0.173, -0.153]</td>\n",
       "    </tr>\n",
       "    <tr>\n",
       "      <th>a</th>\n",
       "      <td>-0.0646957</td>\n",
       "      <td>(-0.0773, -0.0583]</td>\n",
       "    </tr>\n",
       "    <tr>\n",
       "      <th rowspan=\"2\" valign=\"top\">c</th>\n",
       "      <th>b</th>\n",
       "      <td>-0.0619763</td>\n",
       "      <td>(-0.0773, -0.0583]</td>\n",
       "    </tr>\n",
       "    <tr>\n",
       "      <th>a</th>\n",
       "      <td>-0.00758495</td>\n",
       "      <td>(-0.0203, -0.00128]</td>\n",
       "    </tr>\n",
       "    <tr>\n",
       "      <th>b</th>\n",
       "      <th>a</th>\n",
       "      <td>0.0120314</td>\n",
       "      <td>(-0.00128, 0.0177]</td>\n",
       "    </tr>\n",
       "    <tr>\n",
       "      <th>d</th>\n",
       "      <th>c</th>\n",
       "      <td>0.0177383</td>\n",
       "      <td>(-0.00128, 0.0177]</td>\n",
       "    </tr>\n",
       "  </tbody>\n",
       "</table>\n",
       "</div>"
      ],
      "text/plain": [
       "    correlation                  bin\n",
       "d b   -0.172434     (-0.173, -0.153]\n",
       "  a  -0.0646957   (-0.0773, -0.0583]\n",
       "c b  -0.0619763   (-0.0773, -0.0583]\n",
       "  a -0.00758495  (-0.0203, -0.00128]\n",
       "b a   0.0120314   (-0.00128, 0.0177]\n",
       "d c   0.0177383   (-0.00128, 0.0177]"
      ]
     },
     "execution_count": 13,
     "metadata": {},
     "output_type": "execute_result"
    }
   ],
   "source": [
    "df.sort_values('correlation')"
   ]
  },
  {
   "cell_type": "code",
   "execution_count": 14,
   "metadata": {},
   "outputs": [
    {
     "data": {
      "text/plain": [
       "<matplotlib.axes._subplots.AxesSubplot at 0x107d99550>"
      ]
     },
     "execution_count": 14,
     "metadata": {},
     "output_type": "execute_result"
    },
    {
     "data": {
      "image/png": "[encoded data removed]",
      "text/plain": [
       "<matplotlib.figure.Figure at 0x107c79f90>"
      ]
     },
     "metadata": {},
     "output_type": "display_data"
    }
   ],
   "source": [
    "df.plot()"
   ]
  },
  {
   "cell_type": "code",
   "execution_count": null,
   "metadata": {},
   "outputs": [],
   "source": []
  }
 ],
 "metadata": {
  "kernelspec": {
   "display_name": "Python 2",
   "language": "python",
   "name": "python2"
  },
  "language_info": {
   "codemirror_mode": {
    "name": "ipython",
    "version": 2
   },
   "file_extension": ".py",
   "mimetype": "text/x-python",
   "name": "python",
   "nbconvert_exporter": "python",
   "pygments_lexer": "ipython2",
   "version": "2.7.14"
  }
 },
 "nbformat": 4,
 "nbformat_minor": 2
}
