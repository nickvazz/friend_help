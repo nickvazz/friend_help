{
 "cells": [
  {
   "cell_type": "code",
   "execution_count": 3,
   "metadata": {},
   "outputs": [
    {
     "data": {
      "application/vnd.jupyter.widget-view+json": {
       "model_id": "f0c5e9416dce448d888394c5356caf29",
       "version_major": 2,
       "version_minor": 0
      },
      "text/html": [
       "<p>Failed to display Jupyter Widget of type <code>interactive</code>.</p>\n",
       "<p>\n",
       "  If you're reading this message in the Jupyter Notebook or JupyterLab Notebook, it may mean\n",
       "  that the widgets JavaScript is still loading. If this message persists, it\n",
       "  likely means that the widgets JavaScript library is either not installed or\n",
       "  not enabled. See the <a href=\"https://ipywidgets.readthedocs.io/en/stable/user_install.html\">Jupyter\n",
       "  Widgets Documentation</a> for setup instructions.\n",
       "</p>\n",
       "<p>\n",
       "  If you're reading this message in another frontend (for example, a static\n",
       "  rendering on GitHub or <a href=\"https://nbviewer.jupyter.org/\">NBViewer</a>),\n",
       "  it may mean that your frontend doesn't currently support widgets.\n",
       "</p>\n"
      ],
      "text/plain": [
       "interactive(children=(IntSlider(value=1520352593, description=u'x_min', max=1520368659, min=1520336528), IntSlider(value=1520352594, description=u'x_max', max=1520368660, min=1520336529), Output(layout=Layout(height=u'700px'))), _dom_classes=('widget-interact',))"
      ]
     },
     "metadata": {},
     "output_type": "display_data"
    }
   ],
   "source": [
    "from ipywidgets import interactive\n",
    "import pandas as pd\n",
    "import numpy as np\n",
    "import matplotlib.pyplot as plt\n",
    "from matplotlib.widgets import Slider, Button, RadioButtons\n",
    "from IPython.display import display\n",
    "import ipywidgets as widgets\n",
    "\n",
    "%matplotlib inline\n",
    "\n",
    "raw_df=df=pd.read_csv(\"root.csv\").set_index('Time')\n",
    "mb_cols = [x for x in list(raw_df) if 'MB' in x]\n",
    "vcor_cols = [x for x in list(raw_df) if 'VC' in x]\n",
    "\n",
    "mb_df = raw_df[mb_cols]\n",
    "vcor_df = raw_df[vcor_cols]\n",
    "\n",
    "\n",
    "indices = list(mb_df.index.values)\n",
    "\n",
    "def f(x_min, x_max):\n",
    "    plt.figure(2)\n",
    "    mb_df.plot()\n",
    "    \n",
    "    plt.figure(2)\n",
    "    vcor_df.plot()\n",
    "    \n",
    "    plt.xlim(x_min, x_max)\n",
    "    plt.show()\n",
    "\n",
    "interactive_plot = interactive(f, x_min=(indices[0],indices[-2]), x_max=(indices[1],indices[-1]))\n",
    "output = interactive_plot.children[-1]\n",
    "output.layout.height = '700px'\n",
    "interactive_plot"
   ]
  },
  {
   "cell_type": "code",
   "execution_count": null,
   "metadata": {},
   "outputs": [],
   "source": []
  },
  {
   "cell_type": "code",
   "execution_count": null,
   "metadata": {},
   "outputs": [],
   "source": []
  }
 ],
 "metadata": {
  "kernelspec": {
   "display_name": "Python 2",
   "language": "python",
   "name": "python2"
  },
  "language_info": {
   "codemirror_mode": {
    "name": "ipython",
    "version": 2
   },
   "file_extension": ".py",
   "mimetype": "text/x-python",
   "name": "python",
   "nbconvert_exporter": "python",
   "pygments_lexer": "ipython2",
   "version": "2.7.14"
  }
 },
 "nbformat": 4,
 "nbformat_minor": 2
}
