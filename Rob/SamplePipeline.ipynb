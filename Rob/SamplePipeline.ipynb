{
 "cells": [
  {
   "cell_type": "code",
   "execution_count": 1,
   "metadata": {},
   "outputs": [],
   "source": [
    "import glob\n",
    "\n",
    "input_data = sorted(glob.glob('*/G*/*'))\n",
    "output_data = sorted(glob.glob('*/M*/*'))"
   ]
  },
  {
   "cell_type": "code",
   "execution_count": 2,
   "metadata": {
    "scrolled": false
   },
   "outputs": [
    {
     "name": "stderr",
     "output_type": "stream",
     "text": [
      "/Users/nickvazz/Desktop/virtualenvs/2MLenv/lib/python2.7/site-packages/h5py/__init__.py:36: FutureWarning: Conversion of the second argument of issubdtype from `float` to `np.floating` is deprecated. In future, it will be treated as `np.float64 == np.dtype(float).type`.\n",
      "  from ._conv import register_converters as _register_converters\n",
      "Using TensorFlow backend.\n"
     ]
    },
    {
     "name": "stdout",
     "output_type": "stream",
     "text": [
      "[[  10.  -10.  -10.]\n",
      " [  10.  -10. -100.]\n",
      " [  10.  -10. -110.]\n",
      " ...\n",
      " [  65.  -40.  -10.]\n",
      " [  65.  -40.  -20.]\n",
      " [  65.  -40.  -30.]]\n",
      "\n",
      "[[  10.  -10.  -10.]\n",
      " [  10.  -10. -100.]\n",
      " [  10.  -10. -110.]\n",
      " ...\n",
      " [  65.  -40.  -10.]\n",
      " [  65.  -40.  -20.]\n",
      " [  65.  -40.  -30.]]\n",
      "(100, 128, 128)\n",
      "(100, 384, 128)\n"
     ]
    }
   ],
   "source": [
    "from keras.models import Sequential, Model\n",
    "from keras.layers import Conv2D, MaxPooling2D\n",
    "from keras.layers import Activation, Dropout, Flatten, Dense,UpSampling2D, Input\n",
    "\n",
    "from sklearn.model_selection import train_test_split\n",
    "\n",
    "import numpy as np\n",
    "import tensorflow as tf\n",
    "import pandas as pd\n",
    "import matplotlib.pyplot as plt\n",
    "%matplotlib inline\n",
    "import seaborn as sns\n",
    "\n",
    "def get_value(s):\n",
    "    return float(s[s.find(\"(\")+1:s.find(\")\")])\n",
    "    \n",
    "def get_list_from_string(L):\n",
    "    return map(get_value, L.split('/')[-1].split('_')[-3:])\n",
    "    \n",
    "\n",
    "print np.array(map(get_list_from_string,input_data))\n",
    "print\n",
    "print np.array(map(get_list_from_string,output_data))\n",
    "\n",
    "\n",
    "\n",
    "np.loadtxt(input_data[0], delimiter=',')\n",
    "\n",
    "X = np.array(map(lambda x: np.loadtxt(x, delimiter=','), input_data[:100]))\n",
    "y_temp = np.array(map(lambda x: np.loadtxt(x, delimiter=','), output_data[:100]))\n",
    "\n",
    "print X.shape\n",
    "print y_temp.shape"
   ]
  },
  {
   "cell_type": "code",
   "execution_count": 3,
   "metadata": {
    "scrolled": false
   },
   "outputs": [
    {
     "name": "stdout",
     "output_type": "stream",
     "text": [
      "(100, 128, 128, 1)\n",
      "(100, 128, 128, 3)\n"
     ]
    }
   ],
   "source": [
    "X = X.reshape(-1,128,128,1)\n",
    "y = y_temp.reshape(y_temp.shape[0],3,128,128)\n",
    "y = np.transpose(y, (0,2,3,1))\n",
    "\n",
    "X_train, X_test, y_train, y_test = train_test_split(\n",
    "    X, y, test_size=0.33, random_state=42)\n",
    "\n",
    "print X.shape\n",
    "print y.shape\n",
    "\n"
   ]
  },
  {
   "cell_type": "code",
   "execution_count": 4,
   "metadata": {
    "scrolled": false
   },
   "outputs": [
    {
     "name": "stdout",
     "output_type": "stream",
     "text": [
      "Train on 67 samples, validate on 33 samples\n",
      "Epoch 1/10\n",
      "67/67 [==============================] - 10s 146ms/step - loss: 0.6888 - mean_squared_error: 0.2485 - acc: 0.9962 - val_loss: 0.6737 - val_mean_squared_error: 0.2410 - val_acc: 0.9980\n",
      "Epoch 2/10\n",
      "67/67 [==============================] - 10s 144ms/step - loss: 0.6585 - mean_squared_error: 0.2333 - acc: 0.9980 - val_loss: 0.6005 - val_mean_squared_error: 0.2046 - val_acc: 0.9980\n",
      "Epoch 3/10\n",
      "67/67 [==============================] - 9s 138ms/step - loss: 0.5276 - mean_squared_error: 0.1692 - acc: 0.9980 - val_loss: 0.2840 - val_mean_squared_error: 0.0623 - val_acc: 0.9980\n",
      "Epoch 4/10\n",
      "67/67 [==============================] - 9s 139ms/step - loss: 0.1698 - mean_squared_error: 0.0288 - acc: 0.9980 - val_loss: 0.0415 - val_mean_squared_error: 0.0027 - val_acc: 0.9980\n",
      "Epoch 5/10\n",
      "67/67 [==============================] - 10s 153ms/step - loss: 0.0301 - mean_squared_error: 0.0018 - acc: 0.9980 - val_loss: 0.0135 - val_mean_squared_error: 0.0010 - val_acc: 0.9980\n",
      "Epoch 6/10\n",
      "67/67 [==============================] - 10s 148ms/step - loss: 0.0126 - mean_squared_error: 9.1285e-04 - acc: 0.9980 - val_loss: 0.0068 - val_mean_squared_error: 7.9610e-04 - val_acc: 0.9980\n",
      "Epoch 7/10\n",
      "67/67 [==============================] - 9s 138ms/step - loss: 0.0077 - mean_squared_error: 7.7096e-04 - acc: 0.9980 - val_loss: 0.0040 - val_mean_squared_error: 7.3326e-04 - val_acc: 0.9980\n",
      "Epoch 8/10\n",
      "67/67 [==============================] - 9s 139ms/step - loss: 0.0056 - mean_squared_error: 7.2281e-04 - acc: 0.9980 - val_loss: 0.0024 - val_mean_squared_error: 7.0495e-04 - val_acc: 0.9980\n",
      "Epoch 9/10\n",
      "67/67 [==============================] - 9s 140ms/step - loss: 0.0044 - mean_squared_error: 6.9923e-04 - acc: 0.9980 - val_loss: 0.0015 - val_mean_squared_error: 6.8971e-04 - val_acc: 0.9980\n",
      "Epoch 10/10\n",
      "67/67 [==============================] - 9s 139ms/step - loss: 0.0036 - mean_squared_error: 6.8615e-04 - acc: 0.9980 - val_loss: 9.1282e-04 - val_mean_squared_error: 6.8097e-04 - val_acc: 0.9980\n"
     ]
    }
   ],
   "source": [
    "model = Sequential()\n",
    "model.add(Conv2D(32, (3, 3), padding='same',input_shape=(128,128,1)))\n",
    "model.add(Activation('relu'))\n",
    "model.add(MaxPooling2D(pool_size=(2, 2)))\n",
    "\n",
    "# model.add(Conv2D(32, (3, 3),padding='same'))\n",
    "# model.add(Activation('relu'))\n",
    "# model.add(MaxPooling2D(pool_size=(2, 2)))\n",
    "\n",
    "# model.add(Conv2D(64, (3, 3),padding='same'))\n",
    "# model.add(Activation('relu'))\n",
    "# model.add(MaxPooling2D(pool_size=(2, 2)))\n",
    "\n",
    "# model.add(Conv2D(64, (3, 3),padding='same'))\n",
    "# model.add(Activation('relu'))\n",
    "# model.add(MaxPooling2D(pool_size=(2, 2)))\n",
    "\n",
    "# model.add(Conv2D(64, (3, 3),padding='same'))\n",
    "# model.add(Activation('relu'))\n",
    "# model.add(MaxPooling2D(pool_size=(2, 2)))\n",
    "\n",
    "# model.add(Conv2D(64, (3, 3),padding='same'))\n",
    "# model.add(Activation('relu'))\n",
    "# model.add(MaxPooling2D(pool_size=(2, 2)))\n",
    "\n",
    "# model.add(UpSampling2D(size=(2,2)))\n",
    "# model.add(Conv2D(64, (3, 3),padding='same'))\n",
    "# model.add(Activation('relu'))\n",
    "\n",
    "# model.add(UpSampling2D(size=(2,2)))\n",
    "# model.add(Conv2D(64, (3, 3),padding='same'))\n",
    "# model.add(Activation('relu'))\n",
    "\n",
    "# model.add(UpSampling2D(size=(2,2)))\n",
    "# model.add(Conv2D(64, (3, 3),padding='same'))\n",
    "# model.add(Activation('relu'))\n",
    "\n",
    "# model.add(UpSampling2D(size=(2,2)))\n",
    "# model.add(Conv2D(64, (3, 3),padding='same'))\n",
    "# model.add(Activation('relu'))\n",
    "\n",
    "# model.add(UpSampling2D(size=(2,2)))\n",
    "# model.add(Conv2D(64, (3, 3),padding='same'))\n",
    "# model.add(Activation('relu'))\n",
    "\n",
    "model.add(UpSampling2D(size=(2,2)))\n",
    "model.add(Conv2D(64, (3, 3),padding='same'))\n",
    "model.add(Activation('relu'))\n",
    "\n",
    "model.add(Conv2D(3, (3, 3),padding='same'))\n",
    "model.add(Activation('sigmoid'))\n",
    "\n",
    "model.compile(loss='binary_crossentropy',\n",
    "              optimizer='adadelta',\n",
    "              metrics=['mse','accuracy'])\n",
    "\n",
    "history = model.fit(X_train, y_train,\n",
    "          batch_size=16,\n",
    "          epochs=10,\n",
    "          verbose=1,\n",
    "          validation_data=(X_test, y_test)\n",
    "         )"
   ]
  },
  {
   "cell_type": "code",
   "execution_count": 5,
   "metadata": {},
   "outputs": [],
   "source": [
    "metrics = dict(history.history.items())"
   ]
  },
  {
   "cell_type": "code",
   "execution_count": 6,
   "metadata": {},
   "outputs": [
    {
     "data": {
      "text/plain": [
       "<matplotlib.axes._subplots.AxesSubplot at 0x1186d1e90>"
      ]
     },
     "execution_count": 6,
     "metadata": {},
     "output_type": "execute_result"
    },
    {
     "data": {
      "image/png": "[encoded data removed]",
      "text/plain": [
       "<matplotlib.figure.Figure at 0x10822b310>"
      ]
     },
     "metadata": {},
     "output_type": "display_data"
    }
   ],
   "source": [
    "pd.DataFrame(metrics).iloc[:,0::3].plot()"
   ]
  },
  {
   "cell_type": "code",
   "execution_count": 7,
   "metadata": {},
   "outputs": [
    {
     "data": {
      "text/plain": [
       "<matplotlib.axes._subplots.AxesSubplot at 0x1189e2bd0>"
      ]
     },
     "execution_count": 7,
     "metadata": {},
     "output_type": "execute_result"
    },
    {
     "data": {
      "image/png": "[encoded data removed]",
      "text/plain": [
       "<matplotlib.figure.Figure at 0x107139f90>"
      ]
     },
     "metadata": {},
     "output_type": "display_data"
    }
   ],
   "source": [
    "pd.DataFrame(metrics).iloc[:,1::3].plot()"
   ]
  },
  {
   "cell_type": "code",
   "execution_count": 8,
   "metadata": {},
   "outputs": [
    {
     "data": {
      "text/plain": [
       "<matplotlib.axes._subplots.AxesSubplot at 0x107139450>"
      ]
     },
     "execution_count": 8,
     "metadata": {},
     "output_type": "execute_result"
    },
    {
     "data": {
      "image/png": "[encoded data removed]",
      "text/plain": [
       "<matplotlib.figure.Figure at 0x118a0cf50>"
      ]
     },
     "metadata": {},
     "output_type": "display_data"
    }
   ],
   "source": [
    "pd.DataFrame(metrics).iloc[:,2::3].plot()"
   ]
  },
  {
   "cell_type": "code",
   "execution_count": 9,
   "metadata": {},
   "outputs": [
    {
     "name": "stdout",
     "output_type": "stream",
     "text": [
      "_________________________________________________________________\n",
      "Layer (type)                 Output Shape              Param #   \n",
      "=================================================================\n",
      "conv2d_1 (Conv2D)            (None, 128, 128, 32)      320       \n",
      "_________________________________________________________________\n",
      "activation_1 (Activation)    (None, 128, 128, 32)      0         \n",
      "_________________________________________________________________\n",
      "max_pooling2d_1 (MaxPooling2 (None, 64, 64, 32)        0         \n",
      "_________________________________________________________________\n",
      "up_sampling2d_1 (UpSampling2 (None, 128, 128, 32)      0         \n",
      "_________________________________________________________________\n",
      "conv2d_2 (Conv2D)            (None, 128, 128, 64)      18496     \n",
      "_________________________________________________________________\n",
      "activation_2 (Activation)    (None, 128, 128, 64)      0         \n",
      "_________________________________________________________________\n",
      "conv2d_3 (Conv2D)            (None, 128, 128, 3)       1731      \n",
      "_________________________________________________________________\n",
      "activation_3 (Activation)    (None, 128, 128, 3)       0         \n",
      "=================================================================\n",
      "Total params: 20,547\n",
      "Trainable params: 20,547\n",
      "Non-trainable params: 0\n",
      "_________________________________________________________________\n",
      "None\n"
     ]
    }
   ],
   "source": [
    "print model.summary()"
   ]
  },
  {
   "cell_type": "code",
   "execution_count": null,
   "metadata": {},
   "outputs": [],
   "source": []
  }
 ],
 "metadata": {
  "kernelspec": {
   "display_name": "Python 2",
   "language": "python",
   "name": "python2"
  },
  "language_info": {
   "codemirror_mode": {
    "name": "ipython",
    "version": 2
   },
   "file_extension": ".py",
   "mimetype": "text/x-python",
   "name": "python",
   "nbconvert_exporter": "python",
   "pygments_lexer": "ipython2",
   "version": "2.7.14"
  }
 },
 "nbformat": 4,
 "nbformat_minor": 2
}
